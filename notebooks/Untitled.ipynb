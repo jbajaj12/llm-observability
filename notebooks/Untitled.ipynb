{
 "cells": [
  {
   "cell_type": "code",
   "execution_count": 1,
   "id": "ea175790-4d96-43a1-a222-b67fbfdcdd40",
   "metadata": {},
   "outputs": [],
   "source": [
    "const tracer = require('dd-trace').init();"
   ]
  },
  {
   "cell_type": "code",
   "execution_count": 2,
   "id": "5fa4c5cb-1ebe-4459-9797-bfdc89f1a645",
   "metadata": {},
   "outputs": [],
   "source": [
    "const llmobs = tracer.llmobs;"
   ]
  },
  {
   "cell_type": "code",
   "execution_count": null,
   "id": "3f56d53d-236a-41ad-8090-1e769a3cd933",
   "metadata": {},
   "outputs": [],
   "source": []
  },
  {
   "cell_type": "code",
   "execution_count": 2,
   "id": "f333d68d-c0ac-4dca-bfaf-e45cc83bd14b",
   "metadata": {},
   "outputs": [
    {
     "ename": "SyntaxError",
     "evalue": "Identifier 'OpenAI' has already been declared",
     "execution_count": 2,
     "output_type": "error",
     "traceback": [
      "evalmachine.<anonymous>:1",
      "const { OpenAI } = require('openai'); // Import the OpenAI library",
      "^",
      "",
      "SyntaxError: Identifier 'OpenAI' has already been declared",
      "    at Script.runInThisContext (node:vm:129:12)",
      "    at Object.runInThisContext (node:vm:313:38)",
      "    at run ([eval]:1020:15)",
      "    at onRunRequest ([eval]:864:18)",
      "    at onMessage ([eval]:828:13)",
      "    at process.emit (node:events:513:28)",
      "    at emit (node:internal/child_process:946:14)",
      "    at processTicksAndRejections (node:internal/process/task_queues:84:21)"
     ]
    }
   ],
   "source": [
    "const { OpenAI } = require('openai'); // Import the OpenAI library\n",
    "const dotenv = require('dotenv');    // To manage environment variables\n",
    "const fetch = require('node-fetch');  // For JSON handling, not strictly required if using openai package\n",
    "\n",
    "// Load environment variables from a .env file\n",
    "dotenv.config();\n",
    "\n",
    "// Initialize the OpenAI client\n",
    "const oaiClient = new OpenAI({\n",
    "  apiKey: process.env.OPENAI_API_KEY,\n",
    "});\n",
    "\n",
    "const sysPrompt = `\n",
    "Your task is to \n",
    "1. Summarize the given text at a 6th grade reading level in no more than 2 sentences.\n",
    "2. Identify what topics the text belongs to that would allow you to categorize it in a school library.\n",
    "Format your output strictly following this JSON convention:\n",
    "{\t\n",
    "    \"topics\": <[insert array of topics here]>\n",
    "    \"summary\": <insert summary here>\n",
    "}\n",
    "`;\n",
    "\n",
    "async function summarize(text, prompt = sysPrompt) {\n",
    "  const messages = [\n",
    "    { role: 'system', content: prompt },\n",
    "    { role: 'user', content: text },\n",
    "  ];\n",
    "\n",
    "  try {\n",
    "    const response = await oaiClient.chat.completions.create({\n",
    "      model: 'gpt-3.5-turbo',\n",
    "      messages: messages,\n",
    "    });\n",
    "\n",
    "    // Log the raw response to inspect it\n",
    "    const responseContent = response.choices[0].message.content;\n",
    "    console.log(\"Raw Response:\", responseContent); // Log to inspect\n",
    "\n",
    "    // Trim the response content and attempt to parse\n",
    "    const trimmedContent = responseContent.trim();\n",
    "\n",
    "    // Try parsing the response content\n",
    "    return JSON.parse(trimmedContent);\n",
    "  } catch (error) {\n",
    "    console.error('Error during API request:', error);\n",
    "    throw error;\n",
    "  }\n",
    "}\n",
    "\n",
    "// Example usage:\n",
    "const text = \"Here is some sample text for summarization and topic identification.\";\n",
    "summarize(text)\n",
    "  .then(result => {\n",
    "    console.log('Summary and Topics:', result);\n",
    "  })\n",
    "  .catch(error => {\n",
    "    console.error('Error:', error);\n",
    "  });\n"
   ]
  },
  {
   "cell_type": "code",
   "execution_count": null,
   "id": "b626e9c0-ea63-4014-a73e-b4f71c2f48c6",
   "metadata": {},
   "outputs": [],
   "source": []
  }
 ],
 "metadata": {
  "kernelspec": {
   "display_name": "JavaScript (Node.js)",
   "language": "javascript",
   "name": "javascript"
  },
  "language_info": {
   "file_extension": ".js",
   "mimetype": "application/javascript",
   "name": "javascript",
   "version": "16.20.2"
  }
 },
 "nbformat": 4,
 "nbformat_minor": 5
}
