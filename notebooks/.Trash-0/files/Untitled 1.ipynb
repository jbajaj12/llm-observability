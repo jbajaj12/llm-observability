{
 "cells": [
  {
   "cell_type": "code",
   "execution_count": 6,
   "id": "8e86edf4-421a-4036-9cb3-e1f2e4594fdd",
   "metadata": {},
   "outputs": [
    {
     "ename": "SyntaxError",
     "evalue": "Identifier 'tracer' has already been declared",
     "execution_count": 6,
     "output_type": "error",
     "traceback": [
      "evalmachine.<anonymous>:1",
      "const tracer = require('dd-trace').init();",
      "^",
      "",
      "SyntaxError: Identifier 'tracer' has already been declared",
      "    at Script.runInThisContext (node:vm:129:12)",
      "    at Object.runInThisContext (node:vm:313:38)",
      "    at run ([eval]:1020:15)",
      "    at onRunRequest ([eval]:864:18)",
      "    at onMessage ([eval]:828:13)",
      "    at process.emit (node:events:513:28)",
      "    at emit (node:internal/child_process:946:14)",
      "    at processTicksAndRejections (node:internal/process/task_queues:84:21)"
     ]
    },
    {
     "name": "stderr",
     "output_type": "stream",
     "text": [
      "Error: [RC] Error in request\n",
      "    at /app/node_modules/dd-trace/packages/dd-trace/src/log/writer.js:69:46\n",
      "    at withNoop (/app/node_modules/dd-trace/packages/dd-trace/src/log/writer.js:21:3)\n",
      "    at onError (/app/node_modules/dd-trace/packages/dd-trace/src/log/writer.js:69:18)\n",
      "    at Channel.publish (node:diagnostics_channel:56:9)\n",
      "    at Object.error (/app/node_modules/dd-trace/packages/dd-trace/src/log/index.js:102:20)\n",
      "    at /app/node_modules/dd-trace/packages/dd-trace/src/appsec/remote_config/manager.js:137:13\n",
      "    at ClientRequest.<anonymous> (/app/node_modules/dd-trace/packages/dd-trace/src/exporters/common/request.js:137:7)\n",
      "    at Object.onceWrapper (node:events:628:26)\n",
      "    at ClientRequest.emit (node:events:513:28)\n",
      "    at Socket.socketErrorListener (node:_http_client:494:9)\n",
      "Error: connect ECONNREFUSED 127.0.0.1:8126\n",
      "    at TCPConnectWrap.afterConnect [as oncomplete] (node:net:1278:16)\n",
      "    at TCPConnectWrap.callbackTrampoline (node:internal/async_hooks:130:17) {\n",
      "  errno: -111,\n",
      "  code: 'ECONNREFUSED',\n",
      "  syscall: 'connect',\n",
      "  address: '127.0.0.1',\n",
      "  port: 8126\n",
      "}\n"
     ]
    },
    {
     "name": "stdout",
     "output_type": "stream",
     "text": [
      "Flushing 0 metrics via HTTP\n"
     ]
    },
    {
     "name": "stderr",
     "output_type": "stream",
     "text": [
      "Error: [RC] Error in request\n",
      "    at /app/node_modules/dd-trace/packages/dd-trace/src/log/writer.js:69:46\n",
      "    at withNoop (/app/node_modules/dd-trace/packages/dd-trace/src/log/writer.js:21:3)\n",
      "    at onError (/app/node_modules/dd-trace/packages/dd-trace/src/log/writer.js:69:18)\n",
      "    at Channel.publish (node:diagnostics_channel:56:9)\n",
      "    at Object.error (/app/node_modules/dd-trace/packages/dd-trace/src/log/index.js:102:20)\n",
      "    at /app/node_modules/dd-trace/packages/dd-trace/src/appsec/remote_config/manager.js:137:13\n",
      "    at ClientRequest.<anonymous> (/app/node_modules/dd-trace/packages/dd-trace/src/exporters/common/request.js:137:7)\n",
      "    at Object.onceWrapper (node:events:628:26)\n",
      "    at ClientRequest.emit (node:events:513:28)\n",
      "    at Socket.socketErrorListener (node:_http_client:494:9)\n",
      "Error: connect ECONNREFUSED 127.0.0.1:8126\n",
      "    at TCPConnectWrap.afterConnect [as oncomplete] (node:net:1278:16)\n",
      "    at TCPConnectWrap.callbackTrampoline (node:internal/async_hooks:130:17) {\n",
      "  errno: -111,\n",
      "  code: 'ECONNREFUSED',\n",
      "  syscall: 'connect',\n",
      "  address: '127.0.0.1',\n",
      "  port: 8126\n",
      "}\n",
      "Error: [RC] Error in request\n",
      "    at /app/node_modules/dd-trace/packages/dd-trace/src/log/writer.js:69:46\n",
      "    at withNoop (/app/node_modules/dd-trace/packages/dd-trace/src/log/writer.js:21:3)\n",
      "    at onError (/app/node_modules/dd-trace/packages/dd-trace/src/log/writer.js:69:18)\n",
      "    at Channel.publish (node:diagnostics_channel:56:9)\n",
      "    at Object.error (/app/node_modules/dd-trace/packages/dd-trace/src/log/index.js:102:20)\n",
      "    at /app/node_modules/dd-trace/packages/dd-trace/src/appsec/remote_config/manager.js:137:13\n",
      "    at ClientRequest.<anonymous> (/app/node_modules/dd-trace/packages/dd-trace/src/exporters/common/request.js:137:7)\n",
      "    at Object.onceWrapper (node:events:628:26)\n",
      "    at ClientRequest.emit (node:events:513:28)\n",
      "    at Socket.socketErrorListener (node:_http_client:494:9)\n",
      "Error: connect ECONNREFUSED 127.0.0.1:8126\n",
      "    at TCPConnectWrap.afterConnect [as oncomplete] (node:net:1278:16)\n",
      "    at TCPConnectWrap.callbackTrampoline (node:internal/async_hooks:130:17) {\n",
      "  errno: -111,\n",
      "  code: 'ECONNREFUSED',\n",
      "  syscall: 'connect',\n",
      "  address: '127.0.0.1',\n",
      "  port: 8126\n",
      "}\n"
     ]
    },
    {
     "name": "stdout",
     "output_type": "stream",
     "text": [
      "Flushing 0 metrics via HTTP\n"
     ]
    },
    {
     "name": "stderr",
     "output_type": "stream",
     "text": [
      "Error: [RC] Error in request\n",
      "    at /app/node_modules/dd-trace/packages/dd-trace/src/log/writer.js:69:46\n",
      "    at withNoop (/app/node_modules/dd-trace/packages/dd-trace/src/log/writer.js:21:3)\n",
      "    at onError (/app/node_modules/dd-trace/packages/dd-trace/src/log/writer.js:69:18)\n",
      "    at Channel.publish (node:diagnostics_channel:56:9)\n",
      "    at Object.error (/app/node_modules/dd-trace/packages/dd-trace/src/log/index.js:102:20)\n",
      "    at /app/node_modules/dd-trace/packages/dd-trace/src/appsec/remote_config/manager.js:137:13\n",
      "    at ClientRequest.<anonymous> (/app/node_modules/dd-trace/packages/dd-trace/src/exporters/common/request.js:137:7)\n",
      "    at Object.onceWrapper (node:events:628:26)\n",
      "    at ClientRequest.emit (node:events:513:28)\n",
      "    at Socket.socketErrorListener (node:_http_client:494:9)\n",
      "Error: connect ECONNREFUSED 127.0.0.1:8126\n",
      "    at TCPConnectWrap.afterConnect [as oncomplete] (node:net:1278:16)\n",
      "    at TCPConnectWrap.callbackTrampoline (node:internal/async_hooks:130:17) {\n",
      "  errno: -111,\n",
      "  code: 'ECONNREFUSED',\n",
      "  syscall: 'connect',\n",
      "  address: '127.0.0.1',\n",
      "  port: 8126\n",
      "}\n"
     ]
    }
   ],
   "source": [
    "const tracer = require('dd-trace').init();"
   ]
  },
  {
   "cell_type": "code",
   "execution_count": null,
   "id": "ba6b011d-d2f6-4f0d-8c70-4758cd3cdfc4",
   "metadata": {},
   "outputs": [],
   "source": []
  }
 ],
 "metadata": {
  "kernelspec": {
   "display_name": "JavaScript (Node.js)",
   "language": "javascript",
   "name": "javascript"
  },
  "language_info": {
   "file_extension": ".js",
   "mimetype": "application/javascript",
   "name": "javascript",
   "version": "16.20.2"
  }
 },
 "nbformat": 4,
 "nbformat_minor": 5
}
